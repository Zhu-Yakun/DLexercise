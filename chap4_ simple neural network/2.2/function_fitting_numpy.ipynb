{
 "cells": [
  {
   "cell_type": "markdown",
   "id": "f29cddd5-61e9-4458-b117-554f8207443a",
   "metadata": {},
   "source": [
    "# 神经网络的通用近似定理（Universal Approximation Theorem）\n",
    "## numpy实现\n",
    ">对于任何连续函数f: Rⁿ → R 和任意ε > 0  \n",
    "存在一个包含单隐藏层的前馈神经网络，其输出与f的误差不超过ε  \n",
    "ReLU的线性区段组合可以形成分段线性近似\n",
    "\n",
    "**在本题中，通过组合多个ReLU激活的线性变换，网络可以构建足够多的\"折线段\"来逼近x²曲线。随着隐藏层神经元数量的增加，近似精度会不断提高。**  \n",
    "选择的目标函数是x²，属于典型的非线性函数，可以很好地测试网络的拟合能力。"
   ]
  },
  {
   "cell_type": "code",
   "execution_count": 5,
   "id": "b738f964-c03b-49c4-bb14-bc0b9fdff74f",
   "metadata": {},
   "outputs": [],
   "source": [
    "import numpy as np\n",
    "from sklearn.model_selection import train_test_split\n",
    "import matplotlib.pyplot as plt\n",
    "from tqdm import tqdm\n",
    "import math"
   ]
  },
  {
   "cell_type": "markdown",
   "id": "049184c3-675b-42bb-8d67-27c98bbc0fc4",
   "metadata": {},
   "source": [
    "## 目标拟合函数(y = x^2)"
   ]
  },
  {
   "cell_type": "code",
   "execution_count": 6,
   "id": "71b23c4c-3326-4311-8e12-7ca8b9ea1ac0",
   "metadata": {},
   "outputs": [
    {
     "data": {
      "image/png": "[encoded data removed]",
      "text/plain": [
       "<Figure size 640x480 with 1 Axes>"
      ]
     },
     "metadata": {},
     "output_type": "display_data"
    }
   ],
   "source": [
    "# 与PyTorch版本相同\n",
    "def targetFunc(x):\n",
    "    \"\"\"目标函数：x²的平方函数\"\"\"\n",
    "    return x * x\n",
    "\n",
    "x = np.arange(0, 10 * np.pi, 0.1)\n",
    "plt.plot(x, [targetFunc(i) for i in x])\n",
    "plt.legend([\"x^2\"])\n",
    "\n",
    "x = np.arange(0, 5 * np.pi, 0.001)\n",
    "y = [targetFunc(i) for i in x]\n",
    "\n",
    "X_train, X_test, y_train, y_test = train_test_split(x, y, test_size=0.2, random_state=1)\n",
    "X_train, X_val, y_train, y_val = train_test_split(X_train, y_train, test_size=0.125, random_state=1)"
   ]
  },
  {
   "cell_type": "code",
   "execution_count": 7,
   "id": "31565311-115f-4a8f-a444-f67a78fd458b",
   "metadata": {},
   "outputs": [],
   "source": [
    "# 模型参数初始化\n",
    "input_dim = 1    # 输入维度（标量）\n",
    "hidden_dim = 16  # 隐藏层神经元数量\n",
    "output_dim = 1   # 输出维度（标量）\n",
    "\n",
    "# Xavier初始化（保持方差一致性）\n",
    "W1 = np.random.randn(hidden_dim, input_dim) * np.sqrt(1 / input_dim)   # 输入层到隐藏层权重\n",
    "W2 = np.random.randn(output_dim, hidden_dim) * np.sqrt(1 / hidden_dim) # 隐藏层到输出层权重\n",
    "b1 = np.zeros((hidden_dim, 1))  # 隐藏层偏置\n",
    "b2 = np.zeros((output_dim, 1))  # 输出层偏置"
   ]
  },
  {
   "cell_type": "code",
   "execution_count": 8,
   "id": "6b968a29-b292-4e44-b5ab-017c740ece37",
   "metadata": {},
   "outputs": [],
   "source": [
    "cache = {}\n",
    "\n",
    "def Linear(W, X, b):\n",
    "    \"\"\"线性变换\"\"\"\n",
    "    return np.matmul(W, X) + b\n",
    "\n",
    "\n",
    "def relu(X):\n",
    "    \"\"\"ReLU 激活函数\"\"\"\n",
    "    return np.where(X > 0, X, 0)\n",
    "\n",
    "# 前向传播函数\n",
    "def forward(x):\n",
    "    \"\"\"手动实现前向传播流程\"\"\"\n",
    "    cache['out0'] = x      # 存储输入值用于反向传播\n",
    "    x = Linear(W1, x, b1)  # 第一层线性变换：W1*x + b1\n",
    "    cache['out1'] = x      # 存储线性变换结果\n",
    "    x = relu(x)            # ReLU激活\n",
    "    cache['out2'] = x      # 存储激活结果\n",
    "    output = Linear(W2, x, b2)  # 第二层线性变换\n",
    "    cache['out3'] = output # 存储最终输出\n",
    "    return output\n",
    "\n",
    "# 损失函数计算\n",
    "def loss_fn(y_pred, target):\n",
    "    \"\"\"手动实现MSE损失计算\"\"\"\n",
    "    loss = np.sum((y_pred - target)**2, axis=1, keepdims=True) / len(y_pred)\n",
    "    cache['loss'] = 2 * (y_pred - target) / len(y_pred) # 存储梯度信息\n",
    "    return loss\n",
    "\n",
    "# 反向传播实现\n",
    "def backward(lr, batch_size):\n",
    "    \"\"\"手动实现反向传播（链式法则）\"\"\"\n",
    "    global W1, W2, b1, b2\n",
    "\n",
    "    # 输出层梯度计算\n",
    "    delta2 = 1 / batch_size * cache['loss']   # ∂L/∂y_pred = 2(y_pred - y)/N\n",
    "    dW2 = 1 / batch_size * np.matmul(delta2, cache['out2'].T)  # ∂L/∂W2 = delta2 * a1.T\n",
    "    db2 = 1 / batch_size * np.sum(delta2, axis=1, keepdims=True)  # ∂L/∂b2 = sum(delta2)\n",
    "\n",
    "    # 隐藏层梯度计算\n",
    "    delta1 = np.matmul(W2.T, delta2) * np.where(cache['out1'] > 0, 1, 0)  # ∂L/∂a1 = W2.T * delta2 ⊙ relu'\n",
    "    dW1 = 1 / batch_size * np.matmul(delta1, cache['out0'].T)    # ∂L/∂W1 = delta1 * x.T\n",
    "    db1 = 1 / batch_size * np.sum(delta1, axis=1, keepdims=True) # ∂L/∂b1 = sum(delta1)\n",
    "\n",
    "    # 参数更新（梯度下降）\n",
    "    W1 -= lr * dW1\n",
    "    W2 -= lr * dW2\n",
    "    b1 -= lr * db1\n",
    "    b2 -= lr * db2"
   ]
  },
  {
   "cell_type": "code",
   "execution_count": 9,
   "id": "cdcd5e66-a51f-40e0-80ff-292100bdcd84",
   "metadata": {},
   "outputs": [],
   "source": [
    "def predict(ranger):\n",
    "    \"\"\"评估函数\"\"\"\n",
    "    x_plot = []\n",
    "    y_pred = []\n",
    "    for i in range(ranger[0], ranger[1]):\n",
    "        x = Linear(W1, np.array([[i]]), b1)\n",
    "        x = relu(x)\n",
    "        output = Linear(W2, x, b2)\n",
    "        x_plot.append(i)\n",
    "        y_pred.extend(output)\n",
    "\n",
    "    plt.plot(x_plot, [targetFunc(i) for i in x_plot])\n",
    "    plt.plot(x_plot, y_pred)\n",
    "    plt.legend([\"Ground truth\", \"Prediction\"])"
   ]
  },
  {
   "cell_type": "code",
   "execution_count": 10,
   "id": "a1eb60bb-a3b1-4663-a08f-d45ec934cffe",
   "metadata": {},
   "outputs": [],
   "source": [
    "# 训练流程\n",
    "def train(X, y, epochs=5, batch_size=10, lr=0.001, verbose_ep=100):\n",
    "    \"\"\"手动训练循环\"\"\"\n",
    "    for epoch in tqdm(range(epochs)):\n",
    "        rec_loss = 0\n",
    "        # 手动分批次\n",
    "        for batch_idx in range(len(X) // batch_size):\n",
    "            # 获取当前批次数据（需要转置为列向量）\n",
    "            X_batched = np.array([X[batch_idx * batch_size: min((batch_idx + 1) * batch_size, len(X))]])\n",
    "            y_batched = np.array([y[batch_idx * batch_size: min((batch_idx + 1) * batch_size, len(X))]])\n",
    "            # 前向传播\n",
    "            y_pred = forward(X_batched)\n",
    "            # 计算损失\n",
    "            loss = np.sum(loss_fn(y_pred,np.array(y_batched))) / len(y_pred)\n",
    "            rec_loss += loss\n",
    "            # 反向传播更新参数\n",
    "            backward(lr, batch_size)\n",
    "        if epoch % verbose_ep == 0:\n",
    "            print(f\"Epoch:{epoch}, Loss:{rec_loss / (len(X) // batch_size)}\")"
   ]
  },
  {
   "cell_type": "code",
   "execution_count": 11,
   "id": "5da1b2fe-5733-4451-8a11-eeeac9210cf2",
   "metadata": {},
   "outputs": [
    {
     "name": "stderr",
     "output_type": "stream",
     "text": [
      "  0%|                                                  | 10/5000 [00:00<01:40, 49.86it/s]"
     ]
    },
    {
     "name": "stdout",
     "output_type": "stream",
     "text": [
      "Epoch:0, Loss:20793.015025093802\n"
     ]
    },
    {
     "name": "stderr",
     "output_type": "stream",
     "text": [
      " 20%|█████████▋                                      | 1010/5000 [00:19<01:18, 50.73it/s]"
     ]
    },
    {
     "name": "stdout",
     "output_type": "stream",
     "text": [
      "Epoch:1000, Loss:18.407843262180773\n"
     ]
    },
    {
     "name": "stderr",
     "output_type": "stream",
     "text": [
      " 40%|███████████████████▎                            | 2011/5000 [00:39<00:57, 52.02it/s]"
     ]
    },
    {
     "name": "stdout",
     "output_type": "stream",
     "text": [
      "Epoch:2000, Loss:11.608315042103126\n"
     ]
    },
    {
     "name": "stderr",
     "output_type": "stream",
     "text": [
      " 60%|████████████████████████████▉                   | 3011/5000 [00:59<00:39, 50.87it/s]"
     ]
    },
    {
     "name": "stdout",
     "output_type": "stream",
     "text": [
      "Epoch:3000, Loss:9.246719645602921\n"
     ]
    },
    {
     "name": "stderr",
     "output_type": "stream",
     "text": [
      " 80%|██████████████████████████████████████▍         | 4010/5000 [01:19<00:19, 49.82it/s]"
     ]
    },
    {
     "name": "stdout",
     "output_type": "stream",
     "text": [
      "Epoch:4000, Loss:8.588597550347279\n"
     ]
    },
    {
     "name": "stderr",
     "output_type": "stream",
     "text": [
      "100%|████████████████████████████████████████████████| 5000/5000 [01:38<00:00, 50.51it/s]\n"
     ]
    }
   ],
   "source": [
    "train(X_train, y_train, epochs=5000, batch_size=32, lr=0.01, verbose_ep=1000)"
   ]
  },
  {
   "cell_type": "code",
   "execution_count": 12,
   "id": "db8d49c0-3168-4530-88c6-48bc7399d99c",
   "metadata": {},
   "outputs": [
    {
     "data": {
      "image/png": "[encoded data removed]",
      "text/plain": [
       "<Figure size 640x480 with 1 Axes>"
      ]
     },
     "metadata": {},
     "output_type": "display_data"
    }
   ],
   "source": [
    "predict([0, 30])"
   ]
  },
  {
   "cell_type": "markdown",
   "id": "9f6a64e0-0740-4538-a24f-f14df71e4971",
   "metadata": {},
   "source": [
    "这里可以看到[0-17]范围内拟合效果是很好的，想要进一步增加拟合效果需要增加神经元数量或者其他改进"
   ]
  },
  {
   "cell_type": "code",
   "execution_count": null,
   "id": "76e98819-50b4-4a8c-8062-41a2242763b0",
   "metadata": {},
   "outputs": [],
   "source": []
  }
 ],
 "metadata": {
  "kernelspec": {
   "display_name": "deeplearn",
   "language": "python",
   "name": "deeplearn"
  },
  "language_info": {
   "codemirror_mode": {
    "name": "ipython",
    "version": 3
   },
   "file_extension": ".py",
   "mimetype": "text/x-python",
   "name": "python",
   "nbconvert_exporter": "python",
   "pygments_lexer": "ipython3",
   "version": "3.10.13"
  }
 },
 "nbformat": 4,
 "nbformat_minor": 5
}
