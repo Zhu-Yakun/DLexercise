{
 "cells": [
  {
   "cell_type": "markdown",
   "id": "26b5bba8-f45a-4026-94bb-b1419b848cfb",
   "metadata": {},
   "source": [
    "# 神经网络的通用近似定理（Universal Approximation Theorem）\n",
    "## pytorch实现\n",
    ">对于任何连续函数f: Rⁿ → R 和任意ε > 0  \n",
    "存在一个包含单隐藏层的前馈神经网络，其输出与f的误差不超过ε  \n",
    "ReLU的线性区段组合可以形成分段线性近似\n",
    "\n",
    "**在本题中，通过组合多个ReLU激活的线性变换，网络可以构建足够多的\"折线段\"来逼近x²曲线。随着隐藏层神经元数量的增加，近似精度会不断提高。**  \n",
    "选择的目标函数是x²，属于典型的非线性函数，可以很好地测试网络的拟合能力。"
   ]
  },
  {
   "cell_type": "code",
   "execution_count": 35,
   "id": "28260856-8e44-4c29-a150-7254b68195f9",
   "metadata": {},
   "outputs": [],
   "source": [
    "import numpy as np\n",
    "from sklearn.model_selection import train_test_split\n",
    "import matplotlib.pyplot as plt\n",
    "from tqdm import tqdm\n",
    "\n",
    "import torch\n",
    "from torch import nn\n",
    "from torch.utils.data import Dataset\n",
    "from torch.utils.data import DataLoader\n",
    "\n",
    "# 本人完成作业时使用的是自己的轻薄本电脑，安装的是CPU版本的pytorch\n",
    "device = 'cpu'"
   ]
  },
  {
   "cell_type": "code",
   "execution_count": 36,
   "id": "bd2778eb-8e58-4e5f-8eec-c429663ba193",
   "metadata": {},
   "outputs": [
    {
     "data": {
      "text/plain": [
       "<matplotlib.legend.Legend at 0x24fe7428550>"
      ]
     },
     "execution_count": 36,
     "metadata": {},
     "output_type": "execute_result"
    },
    {
     "data": {
      "image/png": "[encoded data removed]",
      "text/plain": [
       "<Figure size 640x480 with 1 Axes>"
      ]
     },
     "metadata": {},
     "output_type": "display_data"
    }
   ],
   "source": [
    "def targetFunc(x):\n",
    "    \"\"\"目标函数：x²的平方函数\"\"\"\n",
    "    return x * x\n",
    "\n",
    "# 生成密集采样点用于可视化\n",
    "x = np.arange(0, 10 * np.pi, 0.1)  # 生成0-10π的密集数据点\n",
    "plt.plot(x, [targetFunc(i) for i in x])\n",
    "plt.legend([\"x^2\"])"
   ]
  },
  {
   "cell_type": "code",
   "execution_count": 37,
   "id": "a427397d-4765-4fac-a906-c5b18ca4dde1",
   "metadata": {},
   "outputs": [],
   "source": [
    "# 生成实际训练数据（更密集的采样）\n",
    "x = np.arange(0, 5 * np.pi, 0.001)  # 0-5π范围内生成训练数据\n",
    "y = [targetFunc(i) for i in x]\n",
    "\n",
    "# 数据集划分（训练：验证：测试 = 7:1:2）\n",
    "X_train, X_test, y_train, y_test = train_test_split(x, y, test_size=0.2, random_state=1)\n",
    "X_train, X_val, y_train, y_val = train_test_split(X_train, y_train, test_size=0.125, random_state=1)"
   ]
  },
  {
   "cell_type": "code",
   "execution_count": 38,
   "id": "d854bfca-98d9-4ca5-a1d5-3e32af9390a3",
   "metadata": {},
   "outputs": [],
   "source": [
    "class CurveDataset(Dataset):\n",
    "    \"\"\"自定义曲线数据集类，继承自PyTorch的Dataset\"\"\"\n",
    "    def __init__(self, X, y):\n",
    "        super().__init__()\n",
    "        self.X = torch.tensor(X)  # 输入特征转换为张量\n",
    "        self.y = torch.tensor(y)  # 目标值转换为张量\n",
    "\n",
    "    def __getitem__(self, idx):\n",
    "        \"\"\"获取单个样本，需要返回(input, target)对\"\"\"\n",
    "        return self.X[idx], self.y[idx]\n",
    "\n",
    "    def __len__(self):\n",
    "        \"\"\"返回数据集总长度\"\"\"\n",
    "        return len(self.y)"
   ]
  },
  {
   "cell_type": "code",
   "execution_count": 39,
   "id": "6240f8a5-9ae9-4ff3-a7c8-39cf9b7d7415",
   "metadata": {},
   "outputs": [],
   "source": [
    "train_dataset = CurveDataset(X_train, y_train)\n",
    "val_dataset = CurveDataset(X_val, y_val)\n",
    "test_dataset = CurveDataset(X_test, y_test)\n",
    "\n",
    "train_dataloader = DataLoader(train_dataset, batch_size=32, shuffle=True)\n",
    "val_dataloader = DataLoader(val_dataset, batch_size=1, shuffle=False)\n",
    "test_dataloader = DataLoader(test_dataset, batch_size=1, shuffle=False)"
   ]
  },
  {
   "cell_type": "code",
   "execution_count": 40,
   "id": "a1f9e7b4-f55b-460a-bdb9-1d83787504df",
   "metadata": {},
   "outputs": [
    {
     "data": {
      "text/plain": [
       "MLP(\n",
       "  (FC1): Linear(in_features=1, out_features=10, bias=True)\n",
       "  (relu): ReLU()\n",
       "  (FC2): Linear(in_features=10, out_features=1, bias=True)\n",
       ")"
      ]
     },
     "execution_count": 40,
     "metadata": {},
     "output_type": "execute_result"
    }
   ],
   "source": [
    "# 神经网络模型定义\n",
    "class MLP(nn.Module):\n",
    "    \"\"\"两层全连接网络（输入层->隐藏层->输出层）\"\"\"\n",
    "    def __init__(self, in_features=1, out_features=1):\n",
    "        super().__init__()\n",
    "        # 第一层：输入维度1，输出维度10\n",
    "        self.FC1 = nn.Linear(in_features=in_features, out_features=10)\n",
    "        # 使用ReLU激活函数   引入非线性能力\n",
    "        self.relu = nn.ReLU()\n",
    "        # 第二层：输入维度10，输出维度1\n",
    "        self.FC2 = nn.Linear(in_features=10, out_features=out_features)\n",
    "\n",
    "    def forward(self, x):\n",
    "        x = self.FC1(x)\n",
    "        x = self.relu(x)\n",
    "        outputs = self.FC2(x)\n",
    "        return outputs\n",
    "\n",
    "model = MLP()\n",
    "model"
   ]
  },
  {
   "cell_type": "code",
   "execution_count": 41,
   "id": "0e012fb7-982a-43db-8626-29902256e3da",
   "metadata": {},
   "outputs": [],
   "source": [
    "# 权重初始化函数\n",
    "def weights_init(m):\n",
    "    \"\"\"自定义权重初始化：使用正态分布初始化全连接层权重\"\"\"\n",
    "    if type(m) == nn.Linear:\n",
    "        nn.init.normal_(m.weight.data, 0.0, 0.02)  # 均值为0，标准差为0.02"
   ]
  },
  {
   "cell_type": "code",
   "execution_count": 42,
   "id": "67478630-1e5d-4881-8d3e-e36acadf4c04",
   "metadata": {},
   "outputs": [],
   "source": [
    "model.apply(weights_init)\n",
    "loss_fn = nn.L1Loss()"
   ]
  },
  {
   "cell_type": "code",
   "execution_count": 43,
   "id": "a34bdb32-d9fc-4bd7-bbe9-c45065514c40",
   "metadata": {},
   "outputs": [],
   "source": [
    "# 验证函数\n",
    "def val(model, dataloader, loss_fn, device='cpu'):\n",
    "    \"\"\"验证阶段函数\"\"\"\n",
    "    model.to(device)\n",
    "    model.eval()  # 设置评估模式（关闭dropout等）\n",
    "    with torch.inference_mode():  # 关闭梯度计算\n",
    "        rec_loss = 0\n",
    "        for X, y in dataloader:\n",
    "            # 数据预处理：增加通道维度并转换类型\n",
    "            X = X.to(device).unsqueeze(-1).float()  # [batch] -> [batch, 1]\n",
    "            y = y.to(device).unsqueeze(-1).float()\n",
    "            # 前向计算\n",
    "            logits = model(X)\n",
    "            loss = loss_fn(logits, y)\n",
    "            rec_loss += loss\n",
    "        print(f\"Validation loss:{rec_loss / len(dataloader)}\")\n",
    "\n",
    "# 训练函数\n",
    "def training(model, dataloader, val_dataloader, loss_fn, lr=0.001, epochs=50, device='cpu', verbose_epoch=10):\n",
    "    \"\"\"训练流程主函数\"\"\"\n",
    "    model.to(device)\n",
    "    optimizer = torch.optim.Adam(model.parameters(), lr=lr)  # 使用Adam优化器\n",
    "    for epoch in tqdm(range(epochs)):\n",
    "        model.train()   # 设置训练模式\n",
    "        rec_loss = 0\n",
    "        for X, y in dataloader:\n",
    "            # 数据预处理\n",
    "            X = X.to(device).unsqueeze(-1).float()\n",
    "            y = y.to(device).unsqueeze(-1).float()\n",
    "\n",
    "            # 前向传播\n",
    "            logits = model(X)\n",
    "            loss = loss_fn(logits, y)\n",
    "\n",
    "            # 反向传播\n",
    "            optimizer.zero_grad()  # 清空梯度\n",
    "            loss.backward()        # 计算梯度\n",
    "            optimizer.step()       # 更新参数\n",
    "\n",
    "            rec_loss += loss\n",
    "\n",
    "        if epoch % verbose_epoch == 0:\n",
    "            print(f\"Epoch{epoch}\\tLoss{rec_loss / len(dataloader)}\")\n",
    "            val(model, val_dataloader, loss_fn, device)  # 执行验证\n"
   ]
  },
  {
   "cell_type": "code",
   "execution_count": 44,
   "id": "9bf7cfc5-7079-4e86-a945-748d48609b7a",
   "metadata": {},
   "outputs": [],
   "source": [
    "# 测试函数\n",
    "def test(model, ranger, steper, loss_fn, device='cpu'):\n",
    "    \"\"\"测试与可视化函数\"\"\"\n",
    "    model.to(device)\n",
    "    model.eval()  # 设置评估模式（关闭dropout等）\n",
    "    x = []\n",
    "    y_pred = []\n",
    "    with torch.inference_mode():\n",
    "        rec_loss = 0\n",
    "        # 生成连续测试点\n",
    "        for X in range(ranger[0], ranger[1], steper):\n",
    "            X = torch.tensor(X).to(device).unsqueeze(-1).float()\n",
    "            y = torch.tensor([targetFunc(i) for i in X]).to(device).unsqueeze(-1).float()\n",
    "\n",
    "            logits = model(X)\n",
    "            loss = loss_fn(logits, y)\n",
    "            rec_loss += loss\n",
    "\n",
    "            x.extend(X.unsqueeze(1))\n",
    "            y_pred.extend(logits.unsqueeze(1))\n",
    "        print(f\"Test loss:{rec_loss * steper / (ranger[1] - ranger[0])}\")\n",
    "\n",
    "    x = [i.cpu().numpy() for i in x]\n",
    "    y_pred = [i.cpu().numpy() for i in y_pred]\n",
    "\n",
    "    plt.plot(x, [targetFunc(i) for i in x])\n",
    "    plt.plot(x, y_pred)\n",
    "    plt.legend([\"Ground truth\", \"Prediction\"])"
   ]
  },
  {
   "cell_type": "code",
   "execution_count": 45,
   "id": "45911a7a-6ea0-4f53-a466-e0afd1d67882",
   "metadata": {},
   "outputs": [
    {
     "name": "stderr",
     "output_type": "stream",
     "text": [
      "  1%|▌                                                   | 1/100 [00:00<00:48,  2.05it/s]"
     ]
    },
    {
     "name": "stdout",
     "output_type": "stream",
     "text": [
      "Epoch0\tLoss77.27877044677734\n",
      "Validation loss:67.07035827636719\n"
     ]
    },
    {
     "name": "stderr",
     "output_type": "stream",
     "text": [
      " 11%|█████▌                                             | 11/100 [00:03<00:30,  2.91it/s]"
     ]
    },
    {
     "name": "stdout",
     "output_type": "stream",
     "text": [
      "Epoch10\tLoss17.589506149291992\n",
      "Validation loss:17.039443969726562\n"
     ]
    },
    {
     "name": "stderr",
     "output_type": "stream",
     "text": [
      " 20%|██████████▏                                        | 20/100 [00:06<00:22,  3.49it/s]"
     ]
    },
    {
     "name": "stdout",
     "output_type": "stream",
     "text": [
      "Epoch20\tLoss9.389752388000488\n"
     ]
    },
    {
     "name": "stderr",
     "output_type": "stream",
     "text": [
      " 21%|██████████▋                                        | 21/100 [00:06<00:27,  2.88it/s]"
     ]
    },
    {
     "name": "stdout",
     "output_type": "stream",
     "text": [
      "Validation loss:9.01697826385498\n"
     ]
    },
    {
     "name": "stderr",
     "output_type": "stream",
     "text": [
      " 30%|███████████████▎                                   | 30/100 [00:09<00:19,  3.53it/s]"
     ]
    },
    {
     "name": "stdout",
     "output_type": "stream",
     "text": [
      "Epoch30\tLoss2.875087022781372\n"
     ]
    },
    {
     "name": "stderr",
     "output_type": "stream",
     "text": [
      " 31%|███████████████▊                                   | 31/100 [00:09<00:23,  2.90it/s]"
     ]
    },
    {
     "name": "stdout",
     "output_type": "stream",
     "text": [
      "Validation loss:2.487492322921753\n"
     ]
    },
    {
     "name": "stderr",
     "output_type": "stream",
     "text": [
      " 40%|████████████████████▍                              | 40/100 [00:12<00:17,  3.52it/s]"
     ]
    },
    {
     "name": "stdout",
     "output_type": "stream",
     "text": [
      "Epoch40\tLoss0.7459845542907715\n"
     ]
    },
    {
     "name": "stderr",
     "output_type": "stream",
     "text": [
      " 41%|████████████████████▉                              | 41/100 [00:12<00:20,  2.87it/s]"
     ]
    },
    {
     "name": "stdout",
     "output_type": "stream",
     "text": [
      "Validation loss:0.7077260613441467\n"
     ]
    },
    {
     "name": "stderr",
     "output_type": "stream",
     "text": [
      " 50%|█████████████████████████▌                         | 50/100 [00:15<00:14,  3.53it/s]"
     ]
    },
    {
     "name": "stdout",
     "output_type": "stream",
     "text": [
      "Epoch50\tLoss0.4421578645706177\n"
     ]
    },
    {
     "name": "stderr",
     "output_type": "stream",
     "text": [
      " 51%|██████████████████████████                         | 51/100 [00:15<00:16,  2.89it/s]"
     ]
    },
    {
     "name": "stdout",
     "output_type": "stream",
     "text": [
      "Validation loss:0.4396381378173828\n"
     ]
    },
    {
     "name": "stderr",
     "output_type": "stream",
     "text": [
      " 60%|██████████████████████████████▌                    | 60/100 [00:18<00:11,  3.49it/s]"
     ]
    },
    {
     "name": "stdout",
     "output_type": "stream",
     "text": [
      "Epoch60\tLoss0.4043068587779999\n"
     ]
    },
    {
     "name": "stderr",
     "output_type": "stream",
     "text": [
      " 61%|███████████████████████████████                    | 61/100 [00:18<00:13,  2.89it/s]"
     ]
    },
    {
     "name": "stdout",
     "output_type": "stream",
     "text": [
      "Validation loss:0.40163031220436096\n"
     ]
    },
    {
     "name": "stderr",
     "output_type": "stream",
     "text": [
      " 70%|███████████████████████████████████▋               | 70/100 [00:21<00:08,  3.51it/s]"
     ]
    },
    {
     "name": "stdout",
     "output_type": "stream",
     "text": [
      "Epoch70\tLoss0.39491161704063416\n"
     ]
    },
    {
     "name": "stderr",
     "output_type": "stream",
     "text": [
      " 71%|████████████████████████████████████▏              | 71/100 [00:21<00:10,  2.89it/s]"
     ]
    },
    {
     "name": "stdout",
     "output_type": "stream",
     "text": [
      "Validation loss:0.3978475034236908\n"
     ]
    },
    {
     "name": "stderr",
     "output_type": "stream",
     "text": [
      " 81%|█████████████████████████████████████████▎         | 81/100 [00:24<00:06,  2.89it/s]"
     ]
    },
    {
     "name": "stdout",
     "output_type": "stream",
     "text": [
      "Epoch80\tLoss0.3889668583869934\n",
      "Validation loss:0.3870578408241272\n"
     ]
    },
    {
     "name": "stderr",
     "output_type": "stream",
     "text": [
      " 90%|█████████████████████████████████████████████▉     | 90/100 [00:27<00:02,  3.52it/s]"
     ]
    },
    {
     "name": "stdout",
     "output_type": "stream",
     "text": [
      "Epoch90\tLoss0.38811975717544556\n",
      "Validation loss:0.39012715220451355\n"
     ]
    },
    {
     "name": "stderr",
     "output_type": "stream",
     "text": [
      "100%|██████████████████████████████████████████████████| 100/100 [00:30<00:00,  3.30it/s]\n"
     ]
    }
   ],
   "source": [
    "training(model, train_dataloader, val_dataloader, loss_fn, lr=0.001, epochs=100, device=device, verbose_epoch=10)"
   ]
  },
  {
   "cell_type": "code",
   "execution_count": 46,
   "id": "229debcd-8f8d-4ba0-b019-8ec418541132",
   "metadata": {},
   "outputs": [
    {
     "name": "stdout",
     "output_type": "stream",
     "text": [
      "Test loss:37.606380462646484\n"
     ]
    },
    {
     "data": {
      "image/png": "[encoded data removed]",
      "text/plain": [
       "<Figure size 640x480 with 1 Axes>"
      ]
     },
     "metadata": {},
     "output_type": "display_data"
    }
   ],
   "source": [
    "test(model, [0, 30], 1, loss_fn, device)"
   ]
  },
  {
   "cell_type": "markdown",
   "id": "7cd3e70a-bb11-4120-8b6a-07cc403e3da2",
   "metadata": {},
   "source": [
    "这里可以看到[0-17]范围内拟合效果是很好的，想要进一步增加拟合效果需要增加神经元数量或者其他改进"
   ]
  },
  {
   "cell_type": "code",
   "execution_count": null,
   "id": "0fd8a2f6-8250-4c59-bf44-571aa841a89d",
   "metadata": {},
   "outputs": [],
   "source": []
  }
 ],
 "metadata": {
  "kernelspec": {
   "display_name": "deeplearn",
   "language": "python",
   "name": "deeplearn"
  },
  "language_info": {
   "codemirror_mode": {
    "name": "ipython",
    "version": 3
   },
   "file_extension": ".py",
   "mimetype": "text/x-python",
   "name": "python",
   "nbconvert_exporter": "python",
   "pygments_lexer": "ipython3",
   "version": "3.10.13"
  }
 },
 "nbformat": 4,
 "nbformat_minor": 5
}
