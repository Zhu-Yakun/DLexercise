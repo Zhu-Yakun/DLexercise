{
 "cells": [
  {
   "cell_type": "markdown",
   "metadata": {},
   "source": [
    "## 准备数据"
   ]
  },
  {
   "cell_type": "code",
   "execution_count": 21,
   "metadata": {},
   "outputs": [],
   "source": [
    "import os\n",
    "import numpy as np\n",
    "import tensorflow as tf\n",
    "from tensorflow import keras\n",
    "from tensorflow.keras import layers, optimizers, datasets\n",
    "\n",
    "# os.environ['KMP_DUPLICATE_LIB_OK']='True'\n",
    "\n",
    "os.environ['TF_CPP_MIN_LOG_LEVEL'] = '2'  # or any {'0', '1', '2'}\n",
    "\n",
    "def mnist_dataset():\n",
    "    (x, y), (x_test, y_test) = datasets.mnist.load_data()\n",
    "    #normalize\n",
    "    x = x/255.0\n",
    "    x_test = x_test/255.0\n",
    "    \n",
    "    return (x, y), (x_test, y_test)"
   ]
  },
  {
   "cell_type": "code",
   "execution_count": 22,
   "metadata": {},
   "outputs": [
    {
     "name": "stdout",
     "output_type": "stream",
     "text": [
      "[(1, 'a'), (2, 'b'), (3, 'c'), (4, 'd')]\n"
     ]
    }
   ],
   "source": [
    "print(list(zip([1, 2, 3, 4], ['a', 'b', 'c', 'd'])))"
   ]
  },
  {
   "cell_type": "markdown",
   "metadata": {},
   "source": [
    "## 建立模型"
   ]
  },
  {
   "cell_type": "code",
   "execution_count": 23,
   "metadata": {},
   "outputs": [],
   "source": [
    "class myModel:\n",
    "    def __init__(self):\n",
    "        ####################\n",
    "        '''声明模型对应的参数'''\n",
    "        self.W1 = tf.Variable(tf.random.normal(shape=(28 * 28, 128), stddev=0.01), trainable=True)\n",
    "        self.b1 = tf.Variable(tf.zeros(shape=(128,)), trainable=True)\n",
    "        self.W2 = tf.Variable(tf.random.normal(shape=(128, 10), stddev=0.01), trainable=True)\n",
    "        self.b2 = tf.Variable(tf.zeros(shape=(10,)), trainable=True)\n",
    "        ####################\n",
    "    def __call__(self, x):\n",
    "        ####################\n",
    "        '''实现模型函数体，返回未归一化的logits'''\n",
    "        x_flattened = tf.reshape(x, [-1, 784])\n",
    "        h1 = tf.matmul(x_flattened, self.W1) + self.b1\n",
    "        activated_h1 = tf.tanh(h1)\n",
    "        logits = tf.matmul(activated_h1, self.W2) + self.b2\n",
    "        ####################\n",
    "        return logits\n",
    "\n",
    "model = myModel()\n",
    "\n",
    "optimizer = optimizers.Adam()"
   ]
  },
  {
   "cell_type": "markdown",
   "metadata": {},
   "source": [
    "## 计算 loss"
   ]
  },
  {
   "cell_type": "code",
   "execution_count": 24,
   "metadata": {},
   "outputs": [],
   "source": [
    "@tf.function\n",
    "def compute_loss(logits, labels):\n",
    "    return tf.reduce_mean(\n",
    "        tf.nn.sparse_softmax_cross_entropy_with_logits(\n",
    "            logits=logits, labels=labels))\n",
    "\n",
    "@tf.function\n",
    "def compute_accuracy(logits, labels):\n",
    "    predictions = tf.argmax(logits, axis=1)\n",
    "    return tf.reduce_mean(tf.cast(tf.equal(predictions, labels), tf.float32))\n",
    "\n",
    "@tf.function\n",
    "def train_one_step(model, optimizer, x, y):\n",
    "    with tf.GradientTape() as tape:\n",
    "        logits = model(x)\n",
    "        loss = compute_loss(logits, y)\n",
    "\n",
    "    # compute gradient\n",
    "    trainable_vars = [model.W1, model.W2, model.b1, model.b2]\n",
    "    grads = tape.gradient(loss, trainable_vars)\n",
    "    for g, v in zip(grads, trainable_vars):\n",
    "        v.assign_sub(0.01*g)\n",
    "\n",
    "    accuracy = compute_accuracy(logits, y)\n",
    "\n",
    "    # loss and accuracy is scalar tensor\n",
    "    return loss, accuracy\n",
    "\n",
    "@tf.function\n",
    "def test(model, x, y):\n",
    "    logits = model(x)\n",
    "    loss = compute_loss(logits, y)\n",
    "    accuracy = compute_accuracy(logits, y)\n",
    "    return loss, accuracy"
   ]
  },
  {
   "cell_type": "markdown",
   "metadata": {},
   "source": [
    "## 实际训练"
   ]
  },
  {
   "cell_type": "code",
   "execution_count": 25,
   "metadata": {},
   "outputs": [
    {
     "name": "stdout",
     "output_type": "stream",
     "text": [
      "epoch 0 : loss 2.3005078 ; accuracy 0.106016666\n",
      "epoch 1 : loss 2.3002207 ; accuracy 0.10988333\n",
      "epoch 2 : loss 2.2999344 ; accuracy 0.1142\n",
      "epoch 3 : loss 2.2996469 ; accuracy 0.1186\n",
      "epoch 4 : loss 2.2993598 ; accuracy 0.12388334\n",
      "epoch 5 : loss 2.2990725 ; accuracy 0.129\n",
      "epoch 6 : loss 2.298785 ; accuracy 0.13425\n",
      "epoch 7 : loss 2.2984972 ; accuracy 0.13968334\n",
      "epoch 8 : loss 2.2982094 ; accuracy 0.14461666\n",
      "epoch 9 : loss 2.2979214 ; accuracy 0.14998333\n",
      "epoch 10 : loss 2.2976327 ; accuracy 0.15563333\n",
      "epoch 11 : loss 2.2973442 ; accuracy 0.16226667\n",
      "epoch 12 : loss 2.2970552 ; accuracy 0.16881667\n",
      "epoch 13 : loss 2.2967656 ; accuracy 0.17473334\n",
      "epoch 14 : loss 2.2964761 ; accuracy 0.181\n",
      "epoch 15 : loss 2.296186 ; accuracy 0.18805\n",
      "epoch 16 : loss 2.2958956 ; accuracy 0.19423333\n",
      "epoch 17 : loss 2.295605 ; accuracy 0.20166667\n",
      "epoch 18 : loss 2.2953136 ; accuracy 0.20878333\n",
      "epoch 19 : loss 2.2950218 ; accuracy 0.2166\n",
      "epoch 20 : loss 2.2947297 ; accuracy 0.22421667\n",
      "epoch 21 : loss 2.2944372 ; accuracy 0.23206666\n",
      "epoch 22 : loss 2.2941442 ; accuracy 0.23991667\n",
      "epoch 23 : loss 2.2938504 ; accuracy 0.24806666\n",
      "epoch 24 : loss 2.2935562 ; accuracy 0.25675\n",
      "epoch 25 : loss 2.2932615 ; accuracy 0.26466668\n",
      "epoch 26 : loss 2.2929661 ; accuracy 0.27321666\n",
      "epoch 27 : loss 2.29267 ; accuracy 0.28153333\n",
      "epoch 28 : loss 2.2923734 ; accuracy 0.28923333\n",
      "epoch 29 : loss 2.292076 ; accuracy 0.29735\n",
      "epoch 30 : loss 2.291778 ; accuracy 0.30583334\n",
      "epoch 31 : loss 2.2914793 ; accuracy 0.31386667\n",
      "epoch 32 : loss 2.2911801 ; accuracy 0.32111666\n",
      "epoch 33 : loss 2.2908797 ; accuracy 0.32865\n",
      "epoch 34 : loss 2.2905788 ; accuracy 0.33566666\n",
      "epoch 35 : loss 2.2902772 ; accuracy 0.34293333\n",
      "epoch 36 : loss 2.2899745 ; accuracy 0.35031667\n",
      "epoch 37 : loss 2.2896714 ; accuracy 0.35746667\n",
      "epoch 38 : loss 2.2893672 ; accuracy 0.36441666\n",
      "epoch 39 : loss 2.289062 ; accuracy 0.37138334\n",
      "epoch 40 : loss 2.2887561 ; accuracy 0.37743333\n",
      "epoch 41 : loss 2.288449 ; accuracy 0.38426667\n",
      "epoch 42 : loss 2.2881413 ; accuracy 0.39048332\n",
      "epoch 43 : loss 2.2878323 ; accuracy 0.39583334\n",
      "epoch 44 : loss 2.2875226 ; accuracy 0.40126666\n",
      "epoch 45 : loss 2.287212 ; accuracy 0.40653333\n",
      "epoch 46 : loss 2.2869 ; accuracy 0.41141668\n",
      "epoch 47 : loss 2.286587 ; accuracy 0.4164\n",
      "epoch 48 : loss 2.286273 ; accuracy 0.4218\n",
      "epoch 49 : loss 2.285958 ; accuracy 0.42731667\n",
      "test loss 2.2854662 ; accuracy 0.4325\n"
     ]
    }
   ],
   "source": [
    "train_data, test_data = mnist_dataset()\n",
    "for epoch in range(50):\n",
    "    loss, accuracy = train_one_step(model, optimizer, \n",
    "                                    tf.constant(train_data[0], dtype=tf.float32), \n",
    "                                    tf.constant(train_data[1], dtype=tf.int64))\n",
    "    print('epoch', epoch, ': loss', loss.numpy(), '; accuracy', accuracy.numpy())\n",
    "loss, accuracy = test(model, \n",
    "                      tf.constant(test_data[0], dtype=tf.float32), \n",
    "                      tf.constant(test_data[1], dtype=tf.int64))\n",
    "\n",
    "print('test loss', loss.numpy(), '; accuracy', accuracy.numpy())"
   ]
  },
  {
   "cell_type": "code",
   "execution_count": null,
   "metadata": {},
   "outputs": [],
   "source": []
  }
 ],
 "metadata": {
  "kernelspec": {
   "display_name": "Python 3 (ipykernel)",
   "language": "python",
   "name": "python3"
  },
  "language_info": {
   "codemirror_mode": {
    "name": "ipython",
    "version": 3
   },
   "file_extension": ".py",
   "mimetype": "text/x-python",
   "name": "python",
   "nbconvert_exporter": "python",
   "pygments_lexer": "ipython3",
   "version": "3.10.13"
  }
 },
 "nbformat": 4,
 "nbformat_minor": 4
}
